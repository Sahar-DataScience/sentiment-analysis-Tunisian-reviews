{
  "nbformat": 4,
  "nbformat_minor": 0,
  "metadata": {
    "colab": {
      "name": "Hackathon code .ipynb",
      "provenance": [],
      "collapsed_sections": [],
      "mount_file_id": "1VJtWAnKK54piZA0xM0IDbXordI4MyGl6",
      "authorship_tag": "ABX9TyPpHqh41amoWkHznAG8zFpf",
      "include_colab_link": true
    },
    "kernelspec": {
      "display_name": "Python 3",
      "name": "python3"
    }
  },
  "cells": [
    {
      "cell_type": "markdown",
      "metadata": {
        "id": "view-in-github",
        "colab_type": "text"
      },
      "source": [
        "<a href=\"https://colab.research.google.com/github/Sahar-DataScience/sentiment-analysis-Tunisian-reviews/blob/main/Hackathon_code_.ipynb\" target=\"_parent\"><img src=\"https://colab.research.google.com/assets/colab-badge.svg\" alt=\"Open In Colab\"/></a>"
      ]
    },
    {
      "cell_type": "code",
      "metadata": {
        "id": "bIRHQJQrp7g5"
      },
      "source": [
        "import pandas as pd\r\n",
        "\r\n",
        "import numpy as np\r\n",
        "\r\n"
      ],
      "execution_count": 212,
      "outputs": []
    },
    {
      "cell_type": "code",
      "metadata": {
        "id": "jyNZPOsHx76D"
      },
      "source": [
        "data =pd.read_csv('/content/drive/MyDrive/Train.csv')"
      ],
      "execution_count": 213,
      "outputs": []
    },
    {
      "cell_type": "code",
      "metadata": {
        "colab": {
          "base_uri": "https://localhost:8080/",
          "height": 204
        },
        "id": "b3yvFV9gzsCA",
        "outputId": "adba0c1f-163c-4fb9-ee9c-62021479cd84"
      },
      "source": [
        "data.head()"
      ],
      "execution_count": 214,
      "outputs": [
        {
          "output_type": "execute_result",
          "data": {
            "text/html": [
              "<div>\n",
              "<style scoped>\n",
              "    .dataframe tbody tr th:only-of-type {\n",
              "        vertical-align: middle;\n",
              "    }\n",
              "\n",
              "    .dataframe tbody tr th {\n",
              "        vertical-align: top;\n",
              "    }\n",
              "\n",
              "    .dataframe thead th {\n",
              "        text-align: right;\n",
              "    }\n",
              "</style>\n",
              "<table border=\"1\" class=\"dataframe\">\n",
              "  <thead>\n",
              "    <tr style=\"text-align: right;\">\n",
              "      <th></th>\n",
              "      <th>ID</th>\n",
              "      <th>content</th>\n",
              "      <th>score</th>\n",
              "    </tr>\n",
              "  </thead>\n",
              "  <tbody>\n",
              "    <tr>\n",
              "      <th>0</th>\n",
              "      <td>65479</td>\n",
              "      <td>Revoyez vos prix ainsi que la lenteur ke prend...</td>\n",
              "      <td>0</td>\n",
              "    </tr>\n",
              "    <tr>\n",
              "      <th>1</th>\n",
              "      <td>84256</td>\n",
              "      <td>تجربة ممتازة وشيقة فعلا تعاملاتهم محترمة ماعدا...</td>\n",
              "      <td>1</td>\n",
              "    </tr>\n",
              "    <tr>\n",
              "      <th>2</th>\n",
              "      <td>31581</td>\n",
              "      <td>دفو على نصابين</td>\n",
              "      <td>-1</td>\n",
              "    </tr>\n",
              "    <tr>\n",
              "      <th>3</th>\n",
              "      <td>58926</td>\n",
              "      <td>J arriver à temps et malheureusement je me  re...</td>\n",
              "      <td>1</td>\n",
              "    </tr>\n",
              "    <tr>\n",
              "      <th>4</th>\n",
              "      <td>17945</td>\n",
              "      <td>Je suis contente des services rendu par Jumia....</td>\n",
              "      <td>1</td>\n",
              "    </tr>\n",
              "  </tbody>\n",
              "</table>\n",
              "</div>"
            ],
            "text/plain": [
              "      ID                                            content  score\n",
              "0  65479  Revoyez vos prix ainsi que la lenteur ke prend...      0\n",
              "1  84256  تجربة ممتازة وشيقة فعلا تعاملاتهم محترمة ماعدا...      1\n",
              "2  31581                                     دفو على نصابين     -1\n",
              "3  58926  J arriver à temps et malheureusement je me  re...      1\n",
              "4  17945  Je suis contente des services rendu par Jumia....      1"
            ]
          },
          "metadata": {
            "tags": []
          },
          "execution_count": 214
        }
      ]
    },
    {
      "cell_type": "code",
      "metadata": {
        "colab": {
          "base_uri": "https://localhost:8080/",
          "height": 297
        },
        "id": "QN3SlBw6z9d8",
        "outputId": "e5ec934d-0a86-45c8-bbdd-b5fa5d87e397"
      },
      "source": [
        "data.describe()"
      ],
      "execution_count": 215,
      "outputs": [
        {
          "output_type": "execute_result",
          "data": {
            "text/html": [
              "<div>\n",
              "<style scoped>\n",
              "    .dataframe tbody tr th:only-of-type {\n",
              "        vertical-align: middle;\n",
              "    }\n",
              "\n",
              "    .dataframe tbody tr th {\n",
              "        vertical-align: top;\n",
              "    }\n",
              "\n",
              "    .dataframe thead th {\n",
              "        text-align: right;\n",
              "    }\n",
              "</style>\n",
              "<table border=\"1\" class=\"dataframe\">\n",
              "  <thead>\n",
              "    <tr style=\"text-align: right;\">\n",
              "      <th></th>\n",
              "      <th>ID</th>\n",
              "      <th>score</th>\n",
              "    </tr>\n",
              "  </thead>\n",
              "  <tbody>\n",
              "    <tr>\n",
              "      <th>count</th>\n",
              "      <td>59408.000000</td>\n",
              "      <td>59408.000000</td>\n",
              "    </tr>\n",
              "    <tr>\n",
              "      <th>mean</th>\n",
              "      <td>65141.616668</td>\n",
              "      <td>0.382777</td>\n",
              "    </tr>\n",
              "    <tr>\n",
              "      <th>std</th>\n",
              "      <td>44264.865162</td>\n",
              "      <td>0.881385</td>\n",
              "    </tr>\n",
              "    <tr>\n",
              "      <th>min</th>\n",
              "      <td>0.000000</td>\n",
              "      <td>-1.000000</td>\n",
              "    </tr>\n",
              "    <tr>\n",
              "      <th>25%</th>\n",
              "      <td>21946.750000</td>\n",
              "      <td>-1.000000</td>\n",
              "    </tr>\n",
              "    <tr>\n",
              "      <th>50%</th>\n",
              "      <td>65856.500000</td>\n",
              "      <td>1.000000</td>\n",
              "    </tr>\n",
              "    <tr>\n",
              "      <th>75%</th>\n",
              "      <td>106198.750000</td>\n",
              "      <td>1.000000</td>\n",
              "    </tr>\n",
              "    <tr>\n",
              "      <th>max</th>\n",
              "      <td>142743.000000</td>\n",
              "      <td>1.000000</td>\n",
              "    </tr>\n",
              "  </tbody>\n",
              "</table>\n",
              "</div>"
            ],
            "text/plain": [
              "                  ID         score\n",
              "count   59408.000000  59408.000000\n",
              "mean    65141.616668      0.382777\n",
              "std     44264.865162      0.881385\n",
              "min         0.000000     -1.000000\n",
              "25%     21946.750000     -1.000000\n",
              "50%     65856.500000      1.000000\n",
              "75%    106198.750000      1.000000\n",
              "max    142743.000000      1.000000"
            ]
          },
          "metadata": {
            "tags": []
          },
          "execution_count": 215
        }
      ]
    },
    {
      "cell_type": "code",
      "metadata": {
        "colab": {
          "base_uri": "https://localhost:8080/"
        },
        "id": "EDCDKyh2PL6F",
        "outputId": "367616ff-1054-45fa-9acb-38187d1b93f6"
      },
      "source": [
        "data.content[100:120]"
      ],
      "execution_count": 216,
      "outputs": [
        {
          "output_type": "execute_result",
          "data": {
            "text/plain": [
              "100                          Y a pas darticles a acheter\n",
              "101                                            goooooode\n",
              "102    محلاها تسهل عليك كل ما يخص اورنج تسوف انترنات ...\n",
              "103    Cest retard livraison et jattends livraison à ...\n",
              "104                                    cest un peu mieux\n",
              "105    نجمة واحدة حتى تصلحو غلطتكم معايا ولا انتم تغش...\n",
              "106                         Cette application et parfait\n",
              "107              Super jaime cette application trop bien\n",
              "108    Beaucoup d artickes, a des prix cassés J atten...\n",
              "109    التطبيق سيئ جدا جدا ميستحقش أنه يا خد نجمة واح...\n",
              "110                                         No ses mover\n",
              "111    يوم الاثنين طلبت من المتجر حاسوب ووصلني التأكي...\n",
              "112                                            tros bien\n",
              "113    Jai commandé une tablette pour enfant pendant ...\n",
              "114                                            Cest Naze\n",
              "115                                      Toujours propre\n",
              "116                                ca me faclite baucoup\n",
              "117                   راءع جدا هذا التطبيق يستحق التقييم\n",
              "118                       Agréable éQuipe et bon travail\n",
              "119    Des escrocs  Des moins que rien. Vous proposez...\n",
              "Name: content, dtype: object"
            ]
          },
          "metadata": {
            "tags": []
          },
          "execution_count": 216
        }
      ]
    },
    {
      "cell_type": "code",
      "metadata": {
        "colab": {
          "base_uri": "https://localhost:8080/"
        },
        "id": "e0uK1zRN1J98",
        "outputId": "1043dacb-02ca-4981-921c-32bef93a9da7"
      },
      "source": [
        "data.info()"
      ],
      "execution_count": 217,
      "outputs": [
        {
          "output_type": "stream",
          "text": [
            "<class 'pandas.core.frame.DataFrame'>\n",
            "RangeIndex: 59408 entries, 0 to 59407\n",
            "Data columns (total 3 columns):\n",
            " #   Column   Non-Null Count  Dtype \n",
            "---  ------   --------------  ----- \n",
            " 0   ID       59408 non-null  int64 \n",
            " 1   content  59408 non-null  object\n",
            " 2   score    59408 non-null  int64 \n",
            "dtypes: int64(2), object(1)\n",
            "memory usage: 1.4+ MB\n"
          ],
          "name": "stdout"
        }
      ]
    },
    {
      "cell_type": "markdown",
      "metadata": {
        "id": "kXXNfIf51vaz"
      },
      "source": [
        "# data cleaning"
      ]
    },
    {
      "cell_type": "markdown",
      "metadata": {
        "id": "IH2Zbtij3rpS"
      },
      "source": [
        "### List of characters to remove"
      ]
    },
    {
      "cell_type": "code",
      "metadata": {
        "id": "4nQo90Lw1UdK"
      },
      "source": [
        " \r\n",
        "chars_to_remove = [',','$','+','?','!','.','à']\r\n",
        "# List of column names to clean\r\n",
        "cols_to_clean = ['content']\r\n",
        "\r\n",
        "# Loop for each column\r\n",
        "for col in cols_to_clean:\r\n",
        "    # Replace each character with an empty string\r\n",
        "    for char in chars_to_remove:\r\n",
        "        data[col] = data[col].str.replace(char, '')\r\n",
        "        \r\n",
        "    # Convert col to numeric\r\n",
        "    #data_train[col] = pd.to_numeric(apps[col]) "
      ],
      "execution_count": 218,
      "outputs": []
    },
    {
      "cell_type": "code",
      "metadata": {
        "colab": {
          "base_uri": "https://localhost:8080/"
        },
        "id": "v4mytYVhW6fC",
        "outputId": "18eadcaf-ce6b-4686-b162-e24b7baa43c2"
      },
      "source": [
        "import re\r\n",
        "import nltk\r\n",
        "from nltk.stem.porter import PorterStemmer\r\n",
        "from nltk.corpus import stopwords\r\n",
        "import tensorflow as tf\r\n",
        "from tensorflow.keras.preprocessing.text import Tokenizer\r\n",
        "from tensorflow.keras.preprocessing.sequence import pad_sequences\r\n",
        "nltk.download('stopwords')"
      ],
      "execution_count": 219,
      "outputs": [
        {
          "output_type": "stream",
          "text": [
            "[nltk_data] Downloading package stopwords to /root/nltk_data...\n",
            "[nltk_data]   Package stopwords is already up-to-date!\n"
          ],
          "name": "stdout"
        },
        {
          "output_type": "execute_result",
          "data": {
            "text/plain": [
              "True"
            ]
          },
          "metadata": {
            "tags": []
          },
          "execution_count": 219
        }
      ]
    },
    {
      "cell_type": "code",
      "metadata": {
        "id": "OidXBw__XOYI"
      },
      "source": [
        "from sklearn.model_selection import train_test_split, cross_val_score, GridSearchCV, StratifiedKFold\r\n",
        "from sklearn.feature_extraction.text import CountVectorizer, TfidfVectorizer\r\n",
        "from sklearn.metrics import accuracy_score, classification_report, confusion_matrix"
      ],
      "execution_count": 220,
      "outputs": []
    },
    {
      "cell_type": "markdown",
      "metadata": {
        "id": "CMnDW-dAYA9a"
      },
      "source": [
        "stop words union"
      ]
    },
    {
      "cell_type": "code",
      "metadata": {
        "id": "G9BiCM9QXILk"
      },
      "source": [
        "stopwords_AR = set(stopwords.words('arabic'))\r\n",
        "stopwords_ENG=set(stopwords.words('english'))\r\n",
        "stopwords_FR= set(stopwords.words('french'))"
      ],
      "execution_count": 221,
      "outputs": []
    },
    {
      "cell_type": "code",
      "metadata": {
        "id": "EzXK9qaDXUjB"
      },
      "source": [
        "my_stop_word_list = stopwords.words('arabic') + stopwords.words('english') + stopwords.words('french')"
      ],
      "execution_count": 222,
      "outputs": []
    },
    {
      "cell_type": "markdown",
      "metadata": {
        "id": "mPPWjzsL-m8H"
      },
      "source": [
        "clean msg function"
      ]
    },
    {
      "cell_type": "markdown",
      "metadata": {
        "id": "mtXzFFNNZTUJ"
      },
      "source": [
        ""
      ]
    },
    {
      "cell_type": "code",
      "metadata": {
        "id": "rjTnp79j6JGP"
      },
      "source": [
        "def clean_message(message):   \r\n",
        "\r\n",
        "  \r\n",
        "  message = message.lower()\r\n",
        "  message = message.split()\r\n",
        "  stemmer = PorterStemmer()\r\n",
        "  message = [stemmer.stem(word) for word in message if word not in set(my_stop_word_list)]\r\n",
        "  message = \" \".join(message)\r\n",
        "  return message"
      ],
      "execution_count": 223,
      "outputs": []
    },
    {
      "cell_type": "markdown",
      "metadata": {
        "id": "eObM_QvqhsCm"
      },
      "source": [
        "inputs construction"
      ]
    },
    {
      "cell_type": "code",
      "metadata": {
        "id": "vRuWxsyTbMoh"
      },
      "source": [
        "content_training = []\r\n",
        "for i in range(0, len(data)):\r\n",
        "    msg = clean_message(data.content[i])\r\n",
        "    content_training.append(msg)"
      ],
      "execution_count": 224,
      "outputs": []
    },
    {
      "cell_type": "code",
      "metadata": {
        "id": "cJ3467SmO_1T"
      },
      "source": [
        "#from sklearn.feature_extraction.text import CountVectorizer\r\n",
        "#cv = CountVectorizer(max_features=3000)\r\n",
        "#X = cv.fit_transform(content_training).toarray()"
      ],
      "execution_count": 225,
      "outputs": []
    },
    {
      "cell_type": "code",
      "metadata": {
        "id": "Mbdn5x9cnB_y"
      },
      "source": [
        "X=content_training"
      ],
      "execution_count": 226,
      "outputs": []
    },
    {
      "cell_type": "code",
      "metadata": {
        "id": "Hz0K6BNJh0AL"
      },
      "source": [
        "Y= np.array(data[\"score\"])"
      ],
      "execution_count": 227,
      "outputs": []
    },
    {
      "cell_type": "code",
      "metadata": {
        "id": "pxlvCk92N2WT"
      },
      "source": [
        "from sklearn.model_selection import train_test_split\r\n",
        "x_train,x_test,y_train,y_test = train_test_split(X,Y,test_size=0.2,random_state=42)"
      ],
      "execution_count": 228,
      "outputs": []
    },
    {
      "cell_type": "code",
      "metadata": {
        "id": "ABzGG9meiJxq"
      },
      "source": [
        "import numpy as np\r\n",
        "\r\n",
        "#un=np.ones(6601)\r\n",
        "#zero=np.zeros(6601)\r\n",
        "#unminus=un*-1\r\n",
        "#un\r\n",
        "#zero\r\n",
        "#unminus"
      ],
      "execution_count": 229,
      "outputs": []
    },
    {
      "cell_type": "code",
      "metadata": {
        "id": "NIQVcmWek7Sd"
      },
      "source": [
        "#p=len(content_test)\r\n"
      ],
      "execution_count": 230,
      "outputs": []
    },
    {
      "cell_type": "code",
      "metadata": {
        "id": "NsET6a8Nl8a7"
      },
      "source": [
        "#label_test=np.ones(p)\r\n",
        "#for i in range(int(p/3)): \r\n",
        "  #label_test[i]=label_test[i]*0\r\n",
        "#for i in range(int(p/3),int(2*p/3)):  \r\n",
        "  #label_test[i]=label_test[i]*-1\r\n",
        "#print(label_test)\r\n",
        "\r\n"
      ],
      "execution_count": 231,
      "outputs": []
    },
    {
      "cell_type": "markdown",
      "metadata": {
        "id": "9VeUCk5qr7Z6"
      },
      "source": [
        "len(label_test)=19803, label_test[6601*2]=1\r\n"
      ]
    },
    {
      "cell_type": "markdown",
      "metadata": {
        "id": "LTrgWvJtstx9"
      },
      "source": [
        "### modele d'entrainnement"
      ]
    },
    {
      "cell_type": "code",
      "metadata": {
        "id": "U65VouwosMdS"
      },
      "source": [
        "vocab_size = 10000\r\n",
        "embedding_dim = 16\r\n",
        "max_length = 120\r\n",
        "trunc_type='post'\r\n",
        "oov_tok = \"<OOV>\""
      ],
      "execution_count": 232,
      "outputs": []
    },
    {
      "cell_type": "code",
      "metadata": {
        "id": "63Uu5lB7s5ey"
      },
      "source": [
        "tokenizer = Tokenizer(num_words = vocab_size, oov_token=oov_tok)\r\n",
        "tokenizer.fit_on_texts(x_train)\r\n",
        "word_index = tokenizer.word_index\r\n",
        "sequences = tokenizer.texts_to_sequences(x_train)\r\n",
        "padded = pad_sequences(sequences,maxlen=max_length, truncating=trunc_type)\r\n",
        "\r\n",
        "testing_sequences = tokenizer.texts_to_sequences(x_test)\r\n",
        "testing_padded = pad_sequences(testing_sequences,maxlen=max_length)"
      ],
      "execution_count": 233,
      "outputs": []
    },
    {
      "cell_type": "code",
      "metadata": {
        "id": "12hNoRTSt0if"
      },
      "source": [
        "reverse_word_index = dict([(value, key) for (key, value) in word_index.items()])\r\n",
        "\r\n",
        "def decode_review(text):\r\n",
        "    return ' '.join([reverse_word_index.get(i, '?') for i in text])"
      ],
      "execution_count": 234,
      "outputs": []
    },
    {
      "cell_type": "code",
      "metadata": {
        "colab": {
          "base_uri": "https://localhost:8080/"
        },
        "id": "qfCHNc3ct_05",
        "outputId": "4f3b2174-34c3-4eac-9d99-cd5a09de27be"
      },
      "source": [
        "# Model Definition with CNN\r\n",
        "model_cnn = tf.keras.Sequential([\r\n",
        "    tf.keras.layers.Embedding(vocab_size, embedding_dim, input_length=max_length),\r\n",
        "    tf.keras.layers.Conv1D(128, 5, activation='relu'),\r\n",
        "    tf.keras.layers.GlobalAveragePooling1D(),\r\n",
        "    tf.keras.layers.Dense(64, activation='relu'),\r\n",
        "    tf.keras.layers.Dense(1, activation='sigmoid')\r\n",
        "])\r\n",
        "\r\n",
        "\r\n",
        "model_cnn.summary()\r\n",
        "model_cnn.compile(loss='binary_crossentropy', optimizer='adam', metrics=['accuracy'])\r\n",
        "\r\n"
      ],
      "execution_count": 235,
      "outputs": [
        {
          "output_type": "stream",
          "text": [
            "Model: \"sequential_3\"\n",
            "_________________________________________________________________\n",
            "Layer (type)                 Output Shape              Param #   \n",
            "=================================================================\n",
            "embedding_3 (Embedding)      (None, 120, 16)           160000    \n",
            "_________________________________________________________________\n",
            "conv1d_3 (Conv1D)            (None, 116, 128)          10368     \n",
            "_________________________________________________________________\n",
            "global_average_pooling1d_3 ( (None, 128)               0         \n",
            "_________________________________________________________________\n",
            "dense_6 (Dense)              (None, 64)                8256      \n",
            "_________________________________________________________________\n",
            "dense_7 (Dense)              (None, 1)                 65        \n",
            "=================================================================\n",
            "Total params: 178,689\n",
            "Trainable params: 178,689\n",
            "Non-trainable params: 0\n",
            "_________________________________________________________________\n"
          ],
          "name": "stdout"
        }
      ]
    },
    {
      "cell_type": "code",
      "metadata": {
        "colab": {
          "base_uri": "https://localhost:8080/"
        },
        "id": "NWyRO4umv9qU",
        "outputId": "3cde7734-cf49-4d7f-8f2c-1821d8a043b4"
      },
      "source": [
        "num_epochs = 10 # train with 50\r\n",
        "history_model_cnn = model_cnn.fit(padded, y_train, epochs=num_epochs, validation_data=(testing_padded, y_test))"
      ],
      "execution_count": 236,
      "outputs": [
        {
          "output_type": "stream",
          "text": [
            "Epoch 1/10\n",
            "1486/1486 [==============================] - 19s 12ms/step - loss: -137.6413 - accuracy: 0.2952 - val_loss: -3545.2812 - val_accuracy: 0.4166\n",
            "Epoch 2/10\n",
            "1486/1486 [==============================] - 18s 12ms/step - loss: -10539.8827 - accuracy: 0.4195 - val_loss: -46633.7852 - val_accuracy: 0.3664\n",
            "Epoch 3/10\n",
            "1486/1486 [==============================] - 18s 12ms/step - loss: -83500.0315 - accuracy: 0.4029 - val_loss: -183369.2031 - val_accuracy: 0.4197\n",
            "Epoch 4/10\n",
            "1486/1486 [==============================] - 18s 12ms/step - loss: -273055.5122 - accuracy: 0.4034 - val_loss: -470365.1250 - val_accuracy: 0.4179\n",
            "Epoch 5/10\n",
            "1486/1486 [==============================] - 18s 12ms/step - loss: -701355.8241 - accuracy: 0.4059 - val_loss: -974329.1250 - val_accuracy: 0.4212\n",
            "Epoch 6/10\n",
            "1486/1486 [==============================] - 18s 12ms/step - loss: -1312262.2569 - accuracy: 0.4034 - val_loss: -1740952.2500 - val_accuracy: 0.4212\n",
            "Epoch 7/10\n",
            "1486/1486 [==============================] - 18s 12ms/step - loss: -2367402.4650 - accuracy: 0.4024 - val_loss: -2841972.7500 - val_accuracy: 0.4209\n",
            "Epoch 8/10\n",
            "1486/1486 [==============================] - 18s 12ms/step - loss: -3649812.9443 - accuracy: 0.4047 - val_loss: -4379162.5000 - val_accuracy: 0.4704\n",
            "Epoch 9/10\n",
            "1486/1486 [==============================] - 18s 12ms/step - loss: -5675225.6446 - accuracy: 0.4081 - val_loss: -6424330.0000 - val_accuracy: 0.4210\n",
            "Epoch 10/10\n",
            "1486/1486 [==============================] - 18s 12ms/step - loss: -8437529.4220 - accuracy: 0.4079 - val_loss: -9075796.0000 - val_accuracy: 0.4704\n"
          ],
          "name": "stdout"
        }
      ]
    },
    {
      "cell_type": "markdown",
      "metadata": {
        "id": "M_cZW6RtHdH_"
      },
      "source": [
        "prediction "
      ]
    },
    {
      "cell_type": "code",
      "metadata": {
        "id": "yusUSAHsOWNV"
      },
      "source": [
        "test=pd.read_csv('/content/drive/MyDrive/Test.csv')"
      ],
      "execution_count": 237,
      "outputs": []
    },
    {
      "cell_type": "code",
      "metadata": {
        "id": "DYB9EXDschz7"
      },
      "source": [
        "content_test = []\r\n",
        "for i in range(0, len(test)):\r\n",
        "    msg = clean_message(test.content[i])\r\n",
        "    content_test.append(msg)"
      ],
      "execution_count": 238,
      "outputs": []
    },
    {
      "cell_type": "code",
      "metadata": {
        "id": "MawtR74Hjaql"
      },
      "source": [
        "testing_seq = tokenizer.texts_to_sequences(content_test)\r\n",
        "test_X_seq = pad_sequences(testing_seq,maxlen=max_length)"
      ],
      "execution_count": 239,
      "outputs": []
    },
    {
      "cell_type": "code",
      "metadata": {
        "colab": {
          "base_uri": "https://localhost:8080/"
        },
        "id": "TZQ2ntmgj1sK",
        "outputId": "e7323978-07c2-4d28-d453-5601bc311bb1"
      },
      "source": [
        "Ypredict = model_cnn.predict_classes(test_X_seq, verbose=1)"
      ],
      "execution_count": 240,
      "outputs": [
        {
          "output_type": "stream",
          "text": [
            " 34/619 [>.............................] - ETA: 1s"
          ],
          "name": "stdout"
        },
        {
          "output_type": "stream",
          "text": [
            "/usr/local/lib/python3.6/dist-packages/tensorflow/python/keras/engine/sequential.py:450: UserWarning: `model.predict_classes()` is deprecated and will be removed after 2021-01-01. Please use instead:* `np.argmax(model.predict(x), axis=-1)`,   if your model does multi-class classification   (e.g. if it uses a `softmax` last-layer activation).* `(model.predict(x) > 0.5).astype(\"int32\")`,   if your model does binary classification   (e.g. if it uses a `sigmoid` last-layer activation).\n",
            "  warnings.warn('`model.predict_classes()` is deprecated and '\n"
          ],
          "name": "stderr"
        },
        {
          "output_type": "stream",
          "text": [
            "619/619 [==============================] - 2s 3ms/step\n"
          ],
          "name": "stdout"
        }
      ]
    },
    {
      "cell_type": "code",
      "metadata": {
        "id": "oq3cZAnilPlz"
      },
      "source": [
        "#accuracy1 = model.evaluate(test_X_seq, y_test)"
      ],
      "execution_count": 241,
      "outputs": []
    },
    {
      "cell_type": "code",
      "metadata": {
        "id": "iU-YfamYhGb1"
      },
      "source": [
        "#from sklearn.feature_extraction.text import CountVectorizer\r\n",
        "#cv = CountVectorizer(max_features=3000)\r\n",
        "#Y1 = cv.fit_transform(content_test).toarray()"
      ],
      "execution_count": 242,
      "outputs": []
    },
    {
      "cell_type": "code",
      "metadata": {
        "id": "TGQrMzXduEiT"
      },
      "source": [
        "submission = pd.DataFrame()\r\n",
        "submission['ID'] = test.ID\r\n",
        "submission['score'] = Ypredict\r\n",
        "submission.to_csv('hackSubmissionCNNSaharBM3.csv', index=False)\r\n"
      ],
      "execution_count": 245,
      "outputs": []
    },
    {
      "cell_type": "code",
      "metadata": {
        "id": "A_6dtWSzI84L"
      },
      "source": [
        "#output=model_cnn.predict(T)"
      ],
      "execution_count": 244,
      "outputs": []
    }
  ]
}